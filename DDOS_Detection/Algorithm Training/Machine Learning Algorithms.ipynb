{
 "cells": [
  {
   "cell_type": "markdown",
   "id": "0b8d589c",
   "metadata": {},
   "source": [
    "# BUILDING THE MACHINE LEARNING ALGORITHMS."
   ]
  },
  {
   "cell_type": "markdown",
   "id": "34dda1be",
   "metadata": {},
   "source": [
    "### Importing the necessary libraries."
   ]
  },
  {
   "cell_type": "code",
   "execution_count": null,
   "id": "7a4c8d28",
   "metadata": {},
   "outputs": [],
   "source": [
    "# Intermeddiate form of data during preprocessing.\n",
    "import json\n",
    "\n",
    "# Used for data manipulation.\n",
    "import numpy as np\n",
    "\n",
    "# Used for data manipulation.\n",
    "import pandas as pd\n",
    "\n",
    "# Splits the data set into a training set and a testing set.\n",
    "from sklearn.model_selection import train_test_split\n",
    "\n",
    "# Used for data preprocessing.\n",
    "from sklearn.preprocessing import LabelEncoder\n",
    "\n",
    "# Used when training and testing the Random Forest classifier.\n",
    "from sklearn.ensemble import RandomForestClassifier\n",
    "\n",
    "# Used when training and testing the Extra Trees classifier.\n",
    "from sklearn.ensemble import ExtraTreesClassifier\n",
    "\n",
    "# Used when saving ML objects such as the trained algorithms and the preprocessing objects.\n",
    "import joblib"
   ]
  },
  {
   "cell_type": "markdown",
   "id": "6c13f580",
   "metadata": {},
   "source": [
    "### Loading the Dataset."
   ]
  },
  {
   "cell_type": "code",
   "execution_count": null,
   "id": "7fe297af",
   "metadata": {},
   "outputs": [],
   "source": [
    "# Load the dataset using pandas.\n",
    "df = pd.read_csv(r'/home/patrick/School/Project/DDOS Detection using Machine Learning/DDOS_Detection/ML Datasets/MOSAIC/train_mosaic.csv', skipinitialspace=True)\n",
    "\n",
    "# Set the input matrix and target column.\n",
    "# The target column in this dataset is the 'Label' column.\n",
    "# It is the column that identifies network traffic as either an ATTACK or BENIGN.\n",
    "x_cols = [c for c in df.columns if c != 'Label']\n",
    "X = df[x_cols]\n",
    "y = df['Label']\n",
    "\n",
    "# Print out the first five rows of data from the loaded dataset.\n",
    "# Data is formatted as a table.\n",
    "df.head()"
   ]
  },
  {
   "cell_type": "code",
   "execution_count": null,
   "id": "431f7250",
   "metadata": {},
   "outputs": [],
   "source": [
    "# Print out the first row of data in the dataset in JSON format (Python dictionary).\n",
    "dict(X.loc[1])"
   ]
  },
  {
   "cell_type": "markdown",
   "id": "c4b19e21",
   "metadata": {},
   "source": [
    "### Dataset splitting."
   ]
  },
  {
   "cell_type": "code",
   "execution_count": null,
   "id": "b3387015",
   "metadata": {},
   "outputs": [],
   "source": [
    "# Splitting the dataset into a training subset and a testing subset.\n",
    "# 70% of the data will be used for training.\n",
    "# 30% of the data will be used for testing.\n",
    "X_train, X_test, y_train, y_test = train_test_split(X, y, test_size = 0.3, random_state=1234)"
   ]
  },
  {
   "cell_type": "markdown",
   "id": "d6855bae",
   "metadata": {},
   "source": [
    "### Data Pre-processing"
   ]
  },
  {
   "cell_type": "code",
   "execution_count": null,
   "id": "20b77bd4",
   "metadata": {},
   "outputs": [],
   "source": [
    "# The dataset may have missing values.\n",
    "# In order to fill in missing values, we will use the most frequent value in that particular column.\n",
    "train_mode = dict(X_train.mode().iloc[-1])\n",
    "X_train = X_train.fillna(train_mode)\n",
    "\n",
    "# Print out the most common values in each column.\n",
    "print(train_mode)"
   ]
  },
  {
   "cell_type": "markdown",
   "id": "b33bf4aa",
   "metadata": {},
   "source": [
    "### Random Forest Algorithm"
   ]
  },
  {
   "cell_type": "code",
   "execution_count": null,
   "id": "f3964279",
   "metadata": {},
   "outputs": [],
   "source": [
    "# Train the Random Forest Classifier.\n",
    "rf = RandomForestClassifier(n_estimators = 100)\n",
    "rf = rf.fit(X_train, y_train)"
   ]
  },
  {
   "cell_type": "markdown",
   "id": "adafc8ad",
   "metadata": {},
   "source": [
    "### Extra Trees Algorithm"
   ]
  },
  {
   "cell_type": "code",
   "execution_count": null,
   "id": "9b80d57b",
   "metadata": {},
   "outputs": [],
   "source": [
    "# Train the Extra Trees Classifier.\n",
    "et = ExtraTreesClassifier(n_estimators = 100)\n",
    "et = et.fit(X_train, y_train)"
   ]
  },
  {
   "cell_type": "markdown",
   "id": "1982c2e6",
   "metadata": {},
   "source": [
    "### Saving the objects."
   ]
  },
  {
   "cell_type": "code",
   "execution_count": null,
   "id": "66e7d3d9",
   "metadata": {},
   "outputs": [],
   "source": [
    "# We will need to save the trained ML Algorithms for later use.\n",
    "# We will also save the most common values in each column, in case we decide to train another algorithm later on.\n",
    "# We will store these objects in the form of compressed Python Joblibs.\n",
    "\n",
    "# The Random Forest classifier.\n",
    "joblib.dump(rf, \"./random_forest.joblib\", compress=True)\n",
    "\n",
    "# The Extra Trees classifier.\n",
    "joblib.dump(et, \"./extra_trees.joblib\", compress=True)\n",
    "\n",
    "# The Data Filling values.\n",
    "joblib.dump(train_mode, \"./train_mode.joblib\", compress=True)"
   ]
  }
 ],
 "metadata": {
  "kernelspec": {
   "display_name": "venv",
   "language": "python",
   "name": "venv"
  },
  "language_info": {
   "codemirror_mode": {
    "name": "ipython",
    "version": 3
   },
   "file_extension": ".py",
   "mimetype": "text/x-python",
   "name": "python",
   "nbconvert_exporter": "python",
   "pygments_lexer": "ipython3",
   "version": "3.9.2"
  }
 },
 "nbformat": 4,
 "nbformat_minor": 5
}
